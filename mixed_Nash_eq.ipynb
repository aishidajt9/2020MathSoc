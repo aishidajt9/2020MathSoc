{
 "cells": [
  {
   "cell_type": "markdown",
   "metadata": {},
   "source": [
    "# Best response correspondence on mixed extended 2x2 game\n",
    "20200610 Atsushi Ishida (Kwansei Gakuin University)"
   ]
  },
  {
   "cell_type": "code",
   "execution_count": 1,
   "metadata": {},
   "outputs": [],
   "source": [
    "import numpy as np\n",
    "import sympy as sy\n",
    "%matplotlib inline\n",
    "import matplotlib.pyplot as plt\n",
    "import seaborn as sns; sns.set()"
   ]
  },
  {
   "cell_type": "markdown",
   "metadata": {},
   "source": [
    "Let us create a 2 x 2 payoff bi-matrix as a pmat object. Payoff matrix for player 1 in the first dimension, denoted as $M_1$, that for player 2 in the second dimension, denoted as $M_2$."
   ]
  },
  {
   "cell_type": "code",
   "execution_count": 2,
   "metadata": {
    "tags": []
   },
   "outputs": [
    {
     "name": "stdout",
     "output_type": "stream",
     "text": [
      "player 1's matrix M_1:\n",
      " [[-1  1]\n",
      " [ 1 -1]]\n",
      "player 2's matrix M_2:\n",
      " [[ 1 -1]\n",
      " [-1  1]]\n"
     ]
    }
   ],
   "source": [
    "# matching penny for example\n",
    "pmat = np.array([[[-1, 1],[1, -1]],[[1, -1], [-1, 1]]])\n",
    "# Prisoners Dilemma\n",
    "# pmat = np.array([[[5, -4],[6, -3]],[[5, 6], [-4, -3]]])\n",
    "# Coordination game\n",
    "# pmat = np.array([[[2, 0],[0, 4]],[[2, 0], [0, 4]]])\n",
    "# Chickin game\n",
    "# pmat = np.array([[[3, 1],[5, 0]],[[3, 5], [1, 0]]])\n",
    "print(\"player 1's matrix M_1:\\n\", pmat[0, :, :])\n",
    "print(\"player 2's matrix M_2:\\n\", pmat[1, :, :])\n",
    "#print(pmat.transpose(2,1,0).reshape(4,2))"
   ]
  },
  {
   "cell_type": "markdown",
   "metadata": {},
   "source": [
    "Joint probability matrix denoted as $P$."
   ]
  },
  {
   "cell_type": "code",
   "execution_count": 3,
   "metadata": {
    "tags": []
   },
   "outputs": [
    {
     "name": "stdout",
     "output_type": "stream",
     "text": [
      "P= [[p*q p*(1 - q)]\n",
      " [q*(1 - p) (1 - p)*(1 - q)]]\n"
     ]
    }
   ],
   "source": [
    "p, q = sy.symbols(\"p q\")\n",
    "prob = np.outer(np.array([p, 1-p]),  np.array([q, 1-q]))\n",
    "print(\"P=\",prob)"
   ]
  },
  {
   "cell_type": "markdown",
   "metadata": {},
   "source": [
    "Expected utility function for each player as in the form of ufunc.\n",
    "$$F_i(p, q) = \\sum M_i P$$"
   ]
  },
  {
   "cell_type": "code",
   "execution_count": 4,
   "metadata": {},
   "outputs": [],
   "source": [
    "# for player 1\n",
    "F1 = sy.lambdify((p, q), np.sum(pmat[0, :, :] * prob), \"numpy\")\n",
    "# for player 2\n",
    "F2 = sy.lambdify((p, q), np.sum(pmat[1, :, :] * prob), \"numpy\")"
   ]
  },
  {
   "cell_type": "code",
   "execution_count": 5,
   "metadata": {},
   "outputs": [],
   "source": [
    "# Cardesian product function\n",
    "def Cardesian(x, y):\n",
    "    c = np.transpose([np.tile(x, len(y)), np.repeat(y, len(x))])\n",
    "    return c"
   ]
  },
  {
   "cell_type": "markdown",
   "metadata": {},
   "source": [
    "Feasible set $U=\\{(F_1(p,q), F_2(p, q))| (p, q) \\in Q\\}$."
   ]
  },
  {
   "cell_type": "code",
   "execution_count": 6,
   "metadata": {
    "tags": []
   },
   "outputs": [
    {
     "data": {
      "image/png": "[encoded data removed]",
      "text/plain": [
       "<Figure size 432x432 with 1 Axes>"
      ]
     },
     "metadata": {},
     "output_type": "display_data"
    }
   ],
   "source": [
    "pures = Cardesian([0,1], [0,1])\n",
    "\n",
    "pp = np.linspace(0, 1, 101)\n",
    "qq = np.linspace(0, 1, 101)\n",
    "pp_qq = Cardesian(pp, qq)\n",
    "\n",
    "\n",
    "plt.figure(figsize=(6, 6))\n",
    "plt.scatter(F1(pp_qq[:,0], pp_qq[:,1]), F2(pp_qq[:,0], pp_qq[:,1]), s=100, c=\"tab:orange\", alpha=0.1)\n",
    "plt.scatter(F1(pures[:,0], pures[:,1]), F2(pures[:,0], pures[:,1]), s=100, c=\"tab:blue\", label = \"Pure strategy\")\n",
    "plt.xlabel(\"F1\")\n",
    "plt.ylabel(\"F2\");"
   ]
  },
  {
   "cell_type": "markdown",
   "metadata": {},
   "source": [
    "Best responce correspodence\n",
    "\\begin{align*}\n",
    "    B_1(q)&=\\{p\\in [0, 1]|F_1(p,q)=\\max_{r\\in[0,1]}F_1(r,q)\\} \\\\\n",
    "    B_2(p)&=\\{q\\in [0, 1]|F_2(p,q)=\\max_{r\\in[0,1]}F_2(p,r)\\} \\\\\n",
    "\\end{align*}"
   ]
  },
  {
   "cell_type": "code",
   "execution_count": 7,
   "metadata": {},
   "outputs": [],
   "source": [
    "acc = 101\n",
    "# best responce correspodence for player 1\n",
    "def B1(q):\n",
    "    pp = np.linspace(0, 1, acc)\n",
    "    brc = pp[np.isclose(F1(pp, q), np.max(F1(pp, q)))]\n",
    "    return np.transpose([brc, np.repeat(q, len(brc))])\n",
    "# for player 2\n",
    "def B2(p):\n",
    "    qq = np.linspace(0, 1, acc)\n",
    "    brc = qq[np.isclose(F2(p, qq), np.max(F2(p, qq)))]\n",
    "    return np.transpose([np.repeat(p, len(brc)), brc])"
   ]
  },
  {
   "cell_type": "markdown",
   "metadata": {},
   "source": [
    "Best responce correspodence of the game $B(p,q)=B_1(q)\\times B_2(p)$."
   ]
  },
  {
   "cell_type": "code",
   "execution_count": 8,
   "metadata": {},
   "outputs": [],
   "source": [
    "# best responce correspodence\n",
    "def B(pq):\n",
    "    x = B1(pq[1])[:,0]\n",
    "    y = B2(pq[0])[:,1]\n",
    "    return Cardesian(x, y)\n",
    "# ex = np.array([0, 0])\n",
    "# B(ex)"
   ]
  },
  {
   "cell_type": "markdown",
   "metadata": {},
   "source": [
    "Plot of the best responce correspondence curves"
   ]
  },
  {
   "cell_type": "code",
   "execution_count": 9,
   "metadata": {},
   "outputs": [],
   "source": [
    "# best responce correspondence curve for player 1\n",
    "BestRes1 = np.empty([0, 2])\n",
    "for q in np.linspace(0, 1, acc):\n",
    "    BestRes1 = np.append(BestRes1, B1(q), axis=0)\n",
    "# for player 2\n",
    "BestRes2 = np.empty([0, 2])\n",
    "for p in np.linspace(0, 1, acc):\n",
    "    BestRes2 = np.append(BestRes2, B2(p), axis=0)"
   ]
  },
  {
   "cell_type": "code",
   "execution_count": 12,
   "metadata": {},
   "outputs": [
    {
     "data": {
      "image/png": "[encoded data removed]",
      "text/plain": [
       "<Figure size 432x432 with 1 Axes>"
      ]
     },
     "metadata": {},
     "output_type": "display_data"
    }
   ],
   "source": [
    "point = np.array([1, 1]) # (p,q) as the red dot\n",
    "BestRes = B(point)       # B(p,q) as the green area\n",
    "plt.figure(figsize=(6, 6))\n",
    "plt.plot(BestRes1[:,0], BestRes1[:,1], lw=5, label = \"B1\", zorder=1)\n",
    "plt.plot(BestRes2[:,0], BestRes2[:,1], lw=5, label = \"B2\", zorder=2)\n",
    "plt.scatter(point[0], point[1], s=100, c=\"tab:red\", alpha=0.75, zorder=3)\n",
    "# plt.arrow(point[0], point[1], np.asscalar(BestRes[0,0]-point[0])*0.9, np.asscalar(BestRes[0,1]-point[1])*0.9, width = 0.01, color=\"tab:red\", alpha=0.75, zorder=3)\n",
    "plt.scatter(BestRes[:,0], BestRes[:,1], s=100, c=\"tab:green\", marker=\",\", alpha=0.75, zorder=4)\n",
    "plt.legend(bbox_to_anchor=(1.05, 1), loc='upper left', borderaxespad=0)\n",
    "plt.xlabel(\"p\")\n",
    "plt.ylabel(\"q\");"
   ]
  },
  {
   "cell_type": "markdown",
   "metadata": {},
   "source": [
    "## BOTSU"
   ]
  },
  {
   "cell_type": "code",
   "execution_count": 23,
   "metadata": {},
   "outputs": [],
   "source": [
    "# a, b, c, d, e, f, g, h = sy.symbols(\"a b c d e f g h\")\n",
    "# ex = np.array([[[a, b],[c, d]],[[e, f], [g, h]]])\n",
    "# print(ex)\n",
    "# # payoff matrix for player 1\n",
    "# print(ex[0, :, :])\n",
    "# # payoff matrix for player 2\n",
    "# print(ex[1, :, :])"
   ]
  }
 ],
 "metadata": {
  "interpreter": {
   "hash": "d306c53db6e20161a60cc49290d644a213bc6299967077ec9cdcde947dc83798"
  },
  "kernelspec": {
   "display_name": "Python 3.9.12 ('base')",
   "language": "python",
   "name": "python3"
  },
  "language_info": {
   "codemirror_mode": {
    "name": "ipython",
    "version": 3
   },
   "file_extension": ".py",
   "mimetype": "text/x-python",
   "name": "python",
   "nbconvert_exporter": "python",
   "pygments_lexer": "ipython3",
   "version": "3.9.12"
  },
  "orig_nbformat": 2
 },
 "nbformat": 4,
 "nbformat_minor": 2
}
