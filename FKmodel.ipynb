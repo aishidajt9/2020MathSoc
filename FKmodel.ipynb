{
 "cells": [
  {
   "cell_type": "markdown",
   "metadata": {},
   "source": [
    "# Fararo-Kosaka's class identification model"
   ]
  },
  {
   "cell_type": "markdown",
   "metadata": {},
   "source": [
    "20220609 Atsushi Ishida (aishida@kwansei.ac.jp)"
   ]
  },
  {
   "cell_type": "markdown",
   "metadata": {},
   "source": [
    "see Fararo and Kosaka, 2003, Generating Image of Stratification, Springer.\n",
    "\n",
    "https://link.springer.com/book/10.1007/978-94-017-0123-5"
   ]
  },
  {
   "cell_type": "code",
   "execution_count": 1,
   "metadata": {},
   "outputs": [],
   "source": [
    "from itertools import product\n",
    "import matplotlib.pyplot as plt"
   ]
  },
  {
   "cell_type": "markdown",
   "metadata": {},
   "source": [
    "First define the number of dimentions (s) and the number of ranks (r)."
   ]
  },
  {
   "cell_type": "code",
   "execution_count": 2,
   "metadata": {},
   "outputs": [],
   "source": [
    "s = 2\n",
    "r = 3"
   ]
  },
  {
   "cell_type": "markdown",
   "metadata": {},
   "source": [
    "Define the function which generates the objective stratification system."
   ]
  },
  {
   "cell_type": "code",
   "execution_count": 3,
   "metadata": {},
   "outputs": [],
   "source": [
    "def obj_strata(s: int, r: int):\n",
    "    prod = product(list(reversed(range(r))), repeat=s)\n",
    "    return list(prod)"
   ]
  },
  {
   "cell_type": "code",
   "execution_count": 4,
   "metadata": {},
   "outputs": [
    {
     "data": {
      "text/plain": [
       "[(2, 2), (2, 1), (2, 0), (1, 2), (1, 1), (1, 0), (0, 2), (0, 1), (0, 0)]"
      ]
     },
     "execution_count": 4,
     "metadata": {},
     "output_type": "execute_result"
    }
   ],
   "source": [
    "obj_strata(s, r)"
   ]
  },
  {
   "cell_type": "markdown",
   "metadata": {},
   "source": [
    "Define the function which is the generating process of class image and identity formation."
   ]
  },
  {
   "cell_type": "code",
   "execution_count": 5,
   "metadata": {},
   "outputs": [],
   "source": [
    "def image_generation(s: int, r: int, im_show = True):\n",
    "    obj = obj_strata(s, r)\n",
    "    class_ids = []\n",
    "    for i in range(r**s):\n",
    "        ims = []\n",
    "        for j in range(r**s):\n",
    "            im = []\n",
    "            for k in range(s):\n",
    "                im.append(obj[j][k])\n",
    "                if obj[i][k] != obj[j][k]:\n",
    "                    break\n",
    "            if not im in ims:\n",
    "                ims.append(im)\n",
    "        if im_show:\n",
    "            print({obj[i]: ims})\n",
    "        id = ims.index(list(obj[i]))\n",
    "        class_ids.append(id)\n",
    "    plt.hist(class_ids, bins=s*(r-1)+1);"
   ]
  },
  {
   "cell_type": "code",
   "execution_count": 6,
   "metadata": {},
   "outputs": [
    {
     "name": "stdout",
     "output_type": "stream",
     "text": [
      "{(2, 2): [[2, 2], [2, 1], [2, 0], [1], [0]]}\n",
      "{(2, 1): [[2, 2], [2, 1], [2, 0], [1], [0]]}\n",
      "{(2, 0): [[2, 2], [2, 1], [2, 0], [1], [0]]}\n",
      "{(1, 2): [[2], [1, 2], [1, 1], [1, 0], [0]]}\n",
      "{(1, 1): [[2], [1, 2], [1, 1], [1, 0], [0]]}\n",
      "{(1, 0): [[2], [1, 2], [1, 1], [1, 0], [0]]}\n",
      "{(0, 2): [[2], [1], [0, 2], [0, 1], [0, 0]]}\n",
      "{(0, 1): [[2], [1], [0, 2], [0, 1], [0, 0]]}\n",
      "{(0, 0): [[2], [1], [0, 2], [0, 1], [0, 0]]}\n"
     ]
    },
    {
     "data": {
      "image/png": "[encoded data removed]",
      "text/plain": [
       "<Figure size 432x288 with 1 Axes>"
      ]
     },
     "metadata": {},
     "output_type": "display_data"
    }
   ],
   "source": [
    "image_generation(s, r)"
   ]
  },
  {
   "cell_type": "code",
   "execution_count": 7,
   "metadata": {},
   "outputs": [
    {
     "name": "stdout",
     "output_type": "stream",
     "text": [
      "{(1, 1): [[1, 1], [1, 0], [0]]}\n",
      "{(1, 0): [[1, 1], [1, 0], [0]]}\n",
      "{(0, 1): [[1], [0, 1], [0, 0]]}\n",
      "{(0, 0): [[1], [0, 1], [0, 0]]}\n"
     ]
    },
    {
     "data": {
      "image/png": "[encoded data removed]",
      "text/plain": [
       "<Figure size 432x288 with 1 Axes>"
      ]
     },
     "metadata": {},
     "output_type": "display_data"
    }
   ],
   "source": [
    "image_generation(2, 2)"
   ]
  },
  {
   "cell_type": "code",
   "execution_count": 8,
   "metadata": {},
   "outputs": [
    {
     "name": "stdout",
     "output_type": "stream",
     "text": [
      "{(1, 1, 1): [[1, 1, 1], [1, 1, 0], [1, 0], [0]]}\n",
      "{(1, 1, 0): [[1, 1, 1], [1, 1, 0], [1, 0], [0]]}\n",
      "{(1, 0, 1): [[1, 1], [1, 0, 1], [1, 0, 0], [0]]}\n",
      "{(1, 0, 0): [[1, 1], [1, 0, 1], [1, 0, 0], [0]]}\n",
      "{(0, 1, 1): [[1], [0, 1, 1], [0, 1, 0], [0, 0]]}\n",
      "{(0, 1, 0): [[1], [0, 1, 1], [0, 1, 0], [0, 0]]}\n",
      "{(0, 0, 1): [[1], [0, 1], [0, 0, 1], [0, 0, 0]]}\n",
      "{(0, 0, 0): [[1], [0, 1], [0, 0, 1], [0, 0, 0]]}\n"
     ]
    },
    {
     "data": {
      "image/png": "[encoded data removed]",
      "text/plain": [
       "<Figure size 432x288 with 1 Axes>"
      ]
     },
     "metadata": {},
     "output_type": "display_data"
    }
   ],
   "source": [
    "image_generation(3, 2)"
   ]
  },
  {
   "cell_type": "code",
   "execution_count": 9,
   "metadata": {},
   "outputs": [
    {
     "name": "stdout",
     "output_type": "stream",
     "text": [
      "{(2, 2, 2): [[2, 2, 2], [2, 2, 1], [2, 2, 0], [2, 1], [2, 0], [1], [0]]}\n",
      "{(2, 2, 1): [[2, 2, 2], [2, 2, 1], [2, 2, 0], [2, 1], [2, 0], [1], [0]]}\n",
      "{(2, 2, 0): [[2, 2, 2], [2, 2, 1], [2, 2, 0], [2, 1], [2, 0], [1], [0]]}\n",
      "{(2, 1, 2): [[2, 2], [2, 1, 2], [2, 1, 1], [2, 1, 0], [2, 0], [1], [0]]}\n",
      "{(2, 1, 1): [[2, 2], [2, 1, 2], [2, 1, 1], [2, 1, 0], [2, 0], [1], [0]]}\n",
      "{(2, 1, 0): [[2, 2], [2, 1, 2], [2, 1, 1], [2, 1, 0], [2, 0], [1], [0]]}\n",
      "{(2, 0, 2): [[2, 2], [2, 1], [2, 0, 2], [2, 0, 1], [2, 0, 0], [1], [0]]}\n",
      "{(2, 0, 1): [[2, 2], [2, 1], [2, 0, 2], [2, 0, 1], [2, 0, 0], [1], [0]]}\n",
      "{(2, 0, 0): [[2, 2], [2, 1], [2, 0, 2], [2, 0, 1], [2, 0, 0], [1], [0]]}\n",
      "{(1, 2, 2): [[2], [1, 2, 2], [1, 2, 1], [1, 2, 0], [1, 1], [1, 0], [0]]}\n",
      "{(1, 2, 1): [[2], [1, 2, 2], [1, 2, 1], [1, 2, 0], [1, 1], [1, 0], [0]]}\n",
      "{(1, 2, 0): [[2], [1, 2, 2], [1, 2, 1], [1, 2, 0], [1, 1], [1, 0], [0]]}\n",
      "{(1, 1, 2): [[2], [1, 2], [1, 1, 2], [1, 1, 1], [1, 1, 0], [1, 0], [0]]}\n",
      "{(1, 1, 1): [[2], [1, 2], [1, 1, 2], [1, 1, 1], [1, 1, 0], [1, 0], [0]]}\n",
      "{(1, 1, 0): [[2], [1, 2], [1, 1, 2], [1, 1, 1], [1, 1, 0], [1, 0], [0]]}\n",
      "{(1, 0, 2): [[2], [1, 2], [1, 1], [1, 0, 2], [1, 0, 1], [1, 0, 0], [0]]}\n",
      "{(1, 0, 1): [[2], [1, 2], [1, 1], [1, 0, 2], [1, 0, 1], [1, 0, 0], [0]]}\n",
      "{(1, 0, 0): [[2], [1, 2], [1, 1], [1, 0, 2], [1, 0, 1], [1, 0, 0], [0]]}\n",
      "{(0, 2, 2): [[2], [1], [0, 2, 2], [0, 2, 1], [0, 2, 0], [0, 1], [0, 0]]}\n",
      "{(0, 2, 1): [[2], [1], [0, 2, 2], [0, 2, 1], [0, 2, 0], [0, 1], [0, 0]]}\n",
      "{(0, 2, 0): [[2], [1], [0, 2, 2], [0, 2, 1], [0, 2, 0], [0, 1], [0, 0]]}\n",
      "{(0, 1, 2): [[2], [1], [0, 2], [0, 1, 2], [0, 1, 1], [0, 1, 0], [0, 0]]}\n",
      "{(0, 1, 1): [[2], [1], [0, 2], [0, 1, 2], [0, 1, 1], [0, 1, 0], [0, 0]]}\n",
      "{(0, 1, 0): [[2], [1], [0, 2], [0, 1, 2], [0, 1, 1], [0, 1, 0], [0, 0]]}\n",
      "{(0, 0, 2): [[2], [1], [0, 2], [0, 1], [0, 0, 2], [0, 0, 1], [0, 0, 0]]}\n",
      "{(0, 0, 1): [[2], [1], [0, 2], [0, 1], [0, 0, 2], [0, 0, 1], [0, 0, 0]]}\n",
      "{(0, 0, 0): [[2], [1], [0, 2], [0, 1], [0, 0, 2], [0, 0, 1], [0, 0, 0]]}\n"
     ]
    },
    {
     "data": {
      "image/png": "[encoded data removed]",
      "text/plain": [
       "<Figure size 432x288 with 1 Axes>"
      ]
     },
     "metadata": {},
     "output_type": "display_data"
    }
   ],
   "source": [
    "image_generation(3, 3)"
   ]
  },
  {
   "cell_type": "code",
   "execution_count": 10,
   "metadata": {},
   "outputs": [
    {
     "data": {
      "image/png": "[encoded data removed]",
      "text/plain": [
       "<Figure size 432x288 with 1 Axes>"
      ]
     },
     "metadata": {},
     "output_type": "display_data"
    }
   ],
   "source": [
    "image_generation(4, 4, im_show = False)"
   ]
  },
  {
   "cell_type": "code",
   "execution_count": 11,
   "metadata": {},
   "outputs": [
    {
     "data": {
      "image/png": "[encoded data removed]",
      "text/plain": [
       "<Figure size 432x288 with 1 Axes>"
      ]
     },
     "metadata": {},
     "output_type": "display_data"
    }
   ],
   "source": [
    "image_generation(5, 5, im_show = False)"
   ]
  }
 ],
 "metadata": {
  "interpreter": {
   "hash": "d306c53db6e20161a60cc49290d644a213bc6299967077ec9cdcde947dc83798"
  },
  "kernelspec": {
   "display_name": "Python 3.9.12 ('base')",
   "language": "python",
   "name": "python3"
  },
  "language_info": {
   "codemirror_mode": {
    "name": "ipython",
    "version": 3
   },
   "file_extension": ".py",
   "mimetype": "text/x-python",
   "name": "python",
   "nbconvert_exporter": "python",
   "pygments_lexer": "ipython3",
   "version": "3.9.12"
  },
  "orig_nbformat": 4
 },
 "nbformat": 4,
 "nbformat_minor": 2
}
